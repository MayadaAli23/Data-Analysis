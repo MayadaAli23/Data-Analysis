{
 "cells": [
  {
   "cell_type": "markdown",
   "id": "d5550117-e438-45bf-b8fa-55f86dac5703",
   "metadata": {},
   "source": [
    "## Project Overview\n",
    "This project focuses on extracting and analyzing mobile phone prices from Amazon Egypt to understand the pricing patterns, discounts, and market trends. Using Web Scraping with Selenium, we collected product details including names, prices, ratings, reviews, and product links. The data will be cleaned, structured, and explored through descriptive statistics and visualizations to identify price distributions, top discounted products, and brand comparisons.\n",
    "\n",
    "## Objectives\n",
    "1- Collect up-to-date product pricing data from Amazon Egypt (Mobiles category).\n",
    "\n",
    "2- Analyze price distribution and identify market trends.\n",
    "\n",
    "3- Detect the highest and lowest-priced products.\n",
    "\n",
    "4- Identify products with the largest discounts.\n",
    "\n",
    "5- Compare product ratings and review counts across different brands.\n"
   ]
  },
  {
   "cell_type": "markdown",
   "id": "c1b7b49c-5fd5-440b-b2ca-5a6c726828ef",
   "metadata": {},
   "source": [
    "## Data Collection Process  \n",
    "\n",
    "1. **Target Website**  \n",
    "   - **Amazon Egypt** – Mobiles category (`https://www.amazon.eg`).  \n",
    "\n",
    "2. **Approach**  \n",
    "   - The data was collected using **Selenium WebDriver** to handle Amazon’s dynamic JavaScript-loaded content.  \n",
    "   - The scraper navigates through multiple product listing pages and extracts relevant details.  \n",
    "\n",
    "3. **Extracted Fields**  \n",
    "   - **Product Name** – The name/title of the mobile phone.  \n",
    "   - **Price** – The current listed price.  \n",
    "   - **Rating** – The average star rating given by customers.  \n",
    "   - **Review Count** – The total number of customer reviews.  \n",
    "   - **Product Link** – Direct URL to the product page.  \n",
    "\n",
    "4. **Pagination Handling**  \n",
    "   - The scraper iterates through all available pages in the mobiles category until no more products are found.  \n",
    "\n",
    "5. **Data Storage**  \n",
    "   - All extracted data is stored in a **CSV file** (`amazon_eg_mobiles.csv`) with UTF-8 encoding for further processing and analysis.  "
   ]
  },
  {
   "cell_type": "code",
   "execution_count": 3,
   "id": "17710c99-06c6-4c81-8dca-c9c5ba505b5c",
   "metadata": {},
   "outputs": [],
   "source": [
    "from selenium import webdriver\n",
    "from selenium.webdriver.common.by import By\n",
    "from selenium.webdriver.chrome.service import Service\n",
    "from webdriver_manager.chrome import ChromeDriverManager\n",
    "from selenium.webdriver.support.ui import WebDriverWait\n",
    "from selenium.webdriver.support import expected_conditions as EC\n",
    "from selenium.webdriver.chrome.options import Options\n",
    "import pandas as pd\n",
    "import time\n",
    "import matplotlib.pyplot as plt"
   ]
  },
  {
   "cell_type": "code",
   "execution_count": 4,
   "id": "4bf9e954-c14c-4e83-9718-27bd0e01ccae",
   "metadata": {},
   "outputs": [
    {
     "name": "stdout",
     "output_type": "stream",
     "text": [
      "Data saved to amazon_eg_mobiles.csv with 243 products\n"
     ]
    }
   ],
   "source": [
    "# Setup Chrome options\n",
    "options = Options()\n",
    "options.add_argument(\"--start-maximized\")\n",
    "options.add_argument(\"user-agent=Mozilla/5.0 (Windows NT 10.0; Win64; x64) AppleWebKit/537.36 (KHTML, like Gecko) Chrome/115.0.0.0 Safari/537.36\")\n",
    "\n",
    "# Setup Chrome driver\n",
    "driver = webdriver.Chrome(service=Service(ChromeDriverManager().install()), options=options)\n",
    "\n",
    "# Base URL (Amazon Egypt - Mobiles category)\n",
    "base_url = \"https://www.amazon.eg/s?i=electronics&rh=n%3A21832883031&s=popularity-rank&fs=true&language=en\"\n",
    "\n",
    "product_names = []\n",
    "current_prices = []\n",
    "ratings = []\n",
    "review_counts = []\n",
    "\n",
    "# Loop through first 3 pages\n",
    "for page in range(1, 10):\n",
    "    driver.get(f\"{base_url}&page={page}\")\n",
    "    \n",
    "    # Wait for products to load\n",
    "    WebDriverWait(driver, 15).until(\n",
    "        EC.presence_of_all_elements_located((By.CSS_SELECTOR, \"div.s-main-slot div.s-result-item\"))\n",
    "    )\n",
    "    \n",
    "    # Scroll down slowly to load all products\n",
    "    for i in range(3):\n",
    "        driver.execute_script(f\"window.scrollTo(0, document.body.scrollHeight*{(i+1)/3});\")\n",
    "        time.sleep(2)\n",
    "    \n",
    "    products = driver.find_elements(By.CSS_SELECTOR, \"div.s-main-slot div.s-result-item\")\n",
    "    \n",
    "    for product in products:\n",
    "        try:\n",
    "            name = product.find_element(By.CSS_SELECTOR, \"h2 span\").text\n",
    "        except:\n",
    "            name = None\n",
    "        \n",
    "        try:\n",
    "            price = product.find_element(By.CSS_SELECTOR, \"span.a-price-whole\").text\n",
    "        except:\n",
    "            price = None\n",
    "        \n",
    "        try:\n",
    "            rating_elem = product.find_element(By.CSS_SELECTOR, \"i[data-cy='reviews-ratings-slot'] span.a-icon-alt\")\n",
    "            rating = rating_elem.get_attribute(\"textContent\").strip().split()[0]\n",
    "        except:\n",
    "            rating = None\n",
    "        \n",
    "        try:\n",
    "            review_count = product.find_element(By.CSS_SELECTOR, \"span.a-size-base.s-underline-text\").text\n",
    "        except:\n",
    "            review_count = None\n",
    "        \n",
    "        \n",
    "        if name:  # Avoid empty slots\n",
    "            product_names.append(name)\n",
    "            current_prices.append(price)\n",
    "            ratings.append(rating)\n",
    "            review_counts.append(review_count)\n",
    "\n",
    "driver.quit()\n",
    "\n",
    "# Save to CSV\n",
    "df = pd.DataFrame({\n",
    "    \"Product Name\": product_names,\n",
    "    \"Price\": current_prices,\n",
    "    \"Rating\": ratings,\n",
    "    \"Review Count\": review_counts\n",
    "})\n",
    "\n",
    "df.to_csv(\"amazon_eg_mobiles.csv\", index=False, encoding=\"utf-8-sig\")\n",
    "print(f\"Data saved to amazon_eg_mobiles.csv with {len(df)} products\")\n"
   ]
  },
  {
   "cell_type": "markdown",
   "id": "172fdd20-f8d5-4903-b4a7-391b04f24cad",
   "metadata": {},
   "source": [
    "## Data Cleaning"
   ]
  },
  {
   "cell_type": "code",
   "execution_count": 6,
   "id": "4c73cfd6-4f17-4328-a878-3cb77b7fccfe",
   "metadata": {},
   "outputs": [
    {
     "data": {
      "text/html": [
       "<div>\n",
       "<style scoped>\n",
       "    .dataframe tbody tr th:only-of-type {\n",
       "        vertical-align: middle;\n",
       "    }\n",
       "\n",
       "    .dataframe tbody tr th {\n",
       "        vertical-align: top;\n",
       "    }\n",
       "\n",
       "    .dataframe thead th {\n",
       "        text-align: right;\n",
       "    }\n",
       "</style>\n",
       "<table border=\"1\" class=\"dataframe\">\n",
       "  <thead>\n",
       "    <tr style=\"text-align: right;\">\n",
       "      <th></th>\n",
       "      <th>Product Name</th>\n",
       "      <th>Price</th>\n",
       "      <th>Rating</th>\n",
       "      <th>Review Count</th>\n",
       "    </tr>\n",
       "  </thead>\n",
       "  <tbody>\n",
       "    <tr>\n",
       "      <th>0</th>\n",
       "      <td>Xiaomi Redmi A3, 3GB RAM | 64GB ROM, 6.71 Inch...</td>\n",
       "      <td>3,888</td>\n",
       "      <td>3.6</td>\n",
       "      <td>372</td>\n",
       "    </tr>\n",
       "    <tr>\n",
       "      <th>1</th>\n",
       "      <td>Samsung Galaxy A06 Dual Sim 6GB RAM 128GB Stor...</td>\n",
       "      <td>5,666</td>\n",
       "      <td>4.2</td>\n",
       "      <td>1,895</td>\n",
       "    </tr>\n",
       "    <tr>\n",
       "      <th>2</th>\n",
       "      <td>Samsung Galaxy A05s, LTE, Android Smartphone, ...</td>\n",
       "      <td>5,999</td>\n",
       "      <td>4.1</td>\n",
       "      <td>2,608</td>\n",
       "    </tr>\n",
       "    <tr>\n",
       "      <th>3</th>\n",
       "      <td>Samsung Galaxy A16 LTE, Android Smartphone, Du...</td>\n",
       "      <td>9,976</td>\n",
       "      <td>4.3</td>\n",
       "      <td>81</td>\n",
       "    </tr>\n",
       "    <tr>\n",
       "      <th>4</th>\n",
       "      <td>Apple iPhone 13 (128 GB) - Midnight with Face ...</td>\n",
       "      <td>29,999</td>\n",
       "      <td>4.3</td>\n",
       "      <td>448</td>\n",
       "    </tr>\n",
       "  </tbody>\n",
       "</table>\n",
       "</div>"
      ],
      "text/plain": [
       "                                        Product Name   Price Rating  \\\n",
       "0  Xiaomi Redmi A3, 3GB RAM | 64GB ROM, 6.71 Inch...   3,888    3.6   \n",
       "1  Samsung Galaxy A06 Dual Sim 6GB RAM 128GB Stor...   5,666    4.2   \n",
       "2  Samsung Galaxy A05s, LTE, Android Smartphone, ...   5,999    4.1   \n",
       "3  Samsung Galaxy A16 LTE, Android Smartphone, Du...   9,976    4.3   \n",
       "4  Apple iPhone 13 (128 GB) - Midnight with Face ...  29,999    4.3   \n",
       "\n",
       "  Review Count  \n",
       "0          372  \n",
       "1        1,895  \n",
       "2        2,608  \n",
       "3           81  \n",
       "4          448  "
      ]
     },
     "execution_count": 6,
     "metadata": {},
     "output_type": "execute_result"
    }
   ],
   "source": [
    "df.head()"
   ]
  },
  {
   "cell_type": "code",
   "execution_count": 7,
   "id": "ce7e7379-bb6e-4099-95e1-63e3320ccc57",
   "metadata": {},
   "outputs": [
    {
     "data": {
      "text/plain": [
       "Product Name    object\n",
       "Price           object\n",
       "Rating          object\n",
       "Review Count    object\n",
       "dtype: object"
      ]
     },
     "execution_count": 7,
     "metadata": {},
     "output_type": "execute_result"
    }
   ],
   "source": [
    "df.dtypes"
   ]
  },
  {
   "cell_type": "code",
   "execution_count": 8,
   "id": "bdd16cb1-570d-47d8-99c4-cb6dd894c882",
   "metadata": {},
   "outputs": [],
   "source": [
    "## change data types\n",
    "df[\"Price\"] = pd.to_numeric(df[\"Price\"].str.replace(\",\", \"\"), errors=\"coerce\")\n",
    "df[\"Rating\"] = pd.to_numeric(df[\"Rating\"].str.replace(\",\", \"\"), errors=\"coerce\")\n",
    "df[\"Review Count\"] = pd.to_numeric(df[\"Review Count\"].str.replace(\",\", \"\"), errors=\"coerce\")"
   ]
  },
  {
   "cell_type": "code",
   "execution_count": 9,
   "id": "8f33f995-721e-483f-afae-f023d3537d6b",
   "metadata": {},
   "outputs": [
    {
     "data": {
      "text/html": [
       "<div>\n",
       "<style scoped>\n",
       "    .dataframe tbody tr th:only-of-type {\n",
       "        vertical-align: middle;\n",
       "    }\n",
       "\n",
       "    .dataframe tbody tr th {\n",
       "        vertical-align: top;\n",
       "    }\n",
       "\n",
       "    .dataframe thead th {\n",
       "        text-align: right;\n",
       "    }\n",
       "</style>\n",
       "<table border=\"1\" class=\"dataframe\">\n",
       "  <thead>\n",
       "    <tr style=\"text-align: right;\">\n",
       "      <th></th>\n",
       "      <th>Price</th>\n",
       "      <th>Rating</th>\n",
       "      <th>Review Count</th>\n",
       "    </tr>\n",
       "  </thead>\n",
       "  <tbody>\n",
       "    <tr>\n",
       "      <th>count</th>\n",
       "      <td>226.000000</td>\n",
       "      <td>192.000000</td>\n",
       "      <td>192.000000</td>\n",
       "    </tr>\n",
       "    <tr>\n",
       "      <th>mean</th>\n",
       "      <td>13384.991150</td>\n",
       "      <td>3.931771</td>\n",
       "      <td>703.453125</td>\n",
       "    </tr>\n",
       "    <tr>\n",
       "      <th>std</th>\n",
       "      <td>21520.952971</td>\n",
       "      <td>0.908817</td>\n",
       "      <td>2983.389277</td>\n",
       "    </tr>\n",
       "    <tr>\n",
       "      <th>min</th>\n",
       "      <td>49.000000</td>\n",
       "      <td>1.000000</td>\n",
       "      <td>1.000000</td>\n",
       "    </tr>\n",
       "    <tr>\n",
       "      <th>25%</th>\n",
       "      <td>363.250000</td>\n",
       "      <td>3.800000</td>\n",
       "      <td>7.000000</td>\n",
       "    </tr>\n",
       "    <tr>\n",
       "      <th>50%</th>\n",
       "      <td>3935.500000</td>\n",
       "      <td>4.100000</td>\n",
       "      <td>36.000000</td>\n",
       "    </tr>\n",
       "    <tr>\n",
       "      <th>75%</th>\n",
       "      <td>14899.000000</td>\n",
       "      <td>4.400000</td>\n",
       "      <td>180.750000</td>\n",
       "    </tr>\n",
       "    <tr>\n",
       "      <th>max</th>\n",
       "      <td>99950.000000</td>\n",
       "      <td>5.000000</td>\n",
       "      <td>29698.000000</td>\n",
       "    </tr>\n",
       "  </tbody>\n",
       "</table>\n",
       "</div>"
      ],
      "text/plain": [
       "              Price      Rating  Review Count\n",
       "count    226.000000  192.000000    192.000000\n",
       "mean   13384.991150    3.931771    703.453125\n",
       "std    21520.952971    0.908817   2983.389277\n",
       "min       49.000000    1.000000      1.000000\n",
       "25%      363.250000    3.800000      7.000000\n",
       "50%     3935.500000    4.100000     36.000000\n",
       "75%    14899.000000    4.400000    180.750000\n",
       "max    99950.000000    5.000000  29698.000000"
      ]
     },
     "execution_count": 9,
     "metadata": {},
     "output_type": "execute_result"
    }
   ],
   "source": [
    "df.describe()"
   ]
  },
  {
   "cell_type": "code",
   "execution_count": 10,
   "id": "de3863b8-7743-45d7-b6ff-9360a9232d5a",
   "metadata": {},
   "outputs": [],
   "source": [
    "# Remove any accessiories or non reliable prices\n",
    "df = df[df['Price'] > 450]"
   ]
  },
  {
   "cell_type": "code",
   "execution_count": 11,
   "id": "0b22e102-5b7c-40c8-9c7c-2432e6c42234",
   "metadata": {},
   "outputs": [
    {
     "data": {
      "text/plain": [
       "Product Name     0\n",
       "Price            0\n",
       "Rating          25\n",
       "Review Count    25\n",
       "dtype: int64"
      ]
     },
     "execution_count": 11,
     "metadata": {},
     "output_type": "execute_result"
    }
   ],
   "source": [
    "df.isnull().sum()"
   ]
  },
  {
   "cell_type": "code",
   "execution_count": 12,
   "id": "247f8ac6-97e0-4977-abd6-de25a6de6397",
   "metadata": {},
   "outputs": [],
   "source": [
    "# fill missing values \n",
    "df['Rating'] = df['Rating'].fillna(df['Rating'].mean())\n",
    "df['Review Count'] = df['Review Count'].fillna(df['Review Count'].median())"
   ]
  },
  {
   "cell_type": "code",
   "execution_count": 13,
   "id": "a8b4d074-3513-4ed7-aacb-6b88c166a520",
   "metadata": {},
   "outputs": [],
   "source": [
    "# Remove mobile cases from list\n",
    "df = df[~df['Product Name'].str.contains('Case', case=False, na=False)]"
   ]
  },
  {
   "cell_type": "markdown",
   "id": "75ea43d4-e37d-4745-a17f-d7154bb9d29a",
   "metadata": {},
   "source": [
    "## EDA"
   ]
  },
  {
   "cell_type": "markdown",
   "id": "1ff7981b-4981-4574-b4c7-d0450eb874de",
   "metadata": {},
   "source": [
    "### Relation between Price and Rating "
   ]
  },
  {
   "cell_type": "code",
   "execution_count": 16,
   "id": "7f56a2f9-765c-4f71-a260-8c3716bac5f6",
   "metadata": {},
   "outputs": [
    {
     "data": {
      "image/png": "[encoded data removed]",
      "text/plain": [
       "<Figure size 640x480 with 1 Axes>"
      ]
     },
     "metadata": {},
     "output_type": "display_data"
    },
    {
     "data": {
      "text/plain": [
       "0.19976670510551348"
      ]
     },
     "execution_count": 16,
     "metadata": {},
     "output_type": "execute_result"
    }
   ],
   "source": [
    "plt.scatter(df['Price'], df['Rating'])\n",
    "plt.xlabel('Price')\n",
    "plt.ylabel('Rating')\n",
    "plt.title('Price vs Rating')\n",
    "plt.show()\n",
    "df['Price'].corr(df['Rating'])"
   ]
  },
  {
   "cell_type": "markdown",
   "id": "87afcfd3-b592-424f-b98a-25a3c09315e0",
   "metadata": {},
   "source": [
    "There is no Correlation between Price and Rating"
   ]
  },
  {
   "cell_type": "markdown",
   "id": "471bc52b-afbb-45e5-b800-8cf70dbacba9",
   "metadata": {},
   "source": [
    "### Top rated 5 mobiles"
   ]
  },
  {
   "cell_type": "code",
   "execution_count": 19,
   "id": "df9df53a-ba99-46f4-a3da-601a490678d1",
   "metadata": {},
   "outputs": [
    {
     "data": {
      "text/html": [
       "<div>\n",
       "<style scoped>\n",
       "    .dataframe tbody tr th:only-of-type {\n",
       "        vertical-align: middle;\n",
       "    }\n",
       "\n",
       "    .dataframe tbody tr th {\n",
       "        vertical-align: top;\n",
       "    }\n",
       "\n",
       "    .dataframe thead th {\n",
       "        text-align: right;\n",
       "    }\n",
       "</style>\n",
       "<table border=\"1\" class=\"dataframe\">\n",
       "  <thead>\n",
       "    <tr style=\"text-align: right;\">\n",
       "      <th></th>\n",
       "      <th>Product Name</th>\n",
       "      <th>Price</th>\n",
       "      <th>Rating</th>\n",
       "      <th>Review Count</th>\n",
       "    </tr>\n",
       "  </thead>\n",
       "  <tbody>\n",
       "    <tr>\n",
       "      <th>45</th>\n",
       "      <td>Apple iPhone 16 Pro Max (256 GB) - Black Titanium</td>\n",
       "      <td>75550.0</td>\n",
       "      <td>4.6</td>\n",
       "      <td>104.0</td>\n",
       "    </tr>\n",
       "    <tr>\n",
       "      <th>171</th>\n",
       "      <td>Apple iPhone 16e (128 GB) - White with Face ID...</td>\n",
       "      <td>48444.0</td>\n",
       "      <td>4.6</td>\n",
       "      <td>429.0</td>\n",
       "    </tr>\n",
       "    <tr>\n",
       "      <th>153</th>\n",
       "      <td>Apple iPad Pro 11-inch (M4): Ultra Retina XDR ...</td>\n",
       "      <td>66950.0</td>\n",
       "      <td>4.6</td>\n",
       "      <td>249.0</td>\n",
       "    </tr>\n",
       "    <tr>\n",
       "      <th>37</th>\n",
       "      <td>Apple iPhone 16 Pro (256 GB) - Desert Titanium...</td>\n",
       "      <td>70299.0</td>\n",
       "      <td>4.5</td>\n",
       "      <td>183.0</td>\n",
       "    </tr>\n",
       "    <tr>\n",
       "      <th>21</th>\n",
       "      <td>Apple iPhone 16 Pro Max (256 GB) - Black Titan...</td>\n",
       "      <td>82666.0</td>\n",
       "      <td>4.5</td>\n",
       "      <td>401.0</td>\n",
       "    </tr>\n",
       "  </tbody>\n",
       "</table>\n",
       "</div>"
      ],
      "text/plain": [
       "                                          Product Name    Price  Rating  \\\n",
       "45   Apple iPhone 16 Pro Max (256 GB) - Black Titanium  75550.0     4.6   \n",
       "171  Apple iPhone 16e (128 GB) - White with Face ID...  48444.0     4.6   \n",
       "153  Apple iPad Pro 11-inch (M4): Ultra Retina XDR ...  66950.0     4.6   \n",
       "37   Apple iPhone 16 Pro (256 GB) - Desert Titanium...  70299.0     4.5   \n",
       "21   Apple iPhone 16 Pro Max (256 GB) - Black Titan...  82666.0     4.5   \n",
       "\n",
       "     Review Count  \n",
       "45          104.0  \n",
       "171         429.0  \n",
       "153         249.0  \n",
       "37          183.0  \n",
       "21          401.0  "
      ]
     },
     "execution_count": 19,
     "metadata": {},
     "output_type": "execute_result"
    }
   ],
   "source": [
    "df[df['Review Count'] > 100].sort_values(by='Rating', ascending=False).head(5)"
   ]
  },
  {
   "cell_type": "markdown",
   "id": "16862ca9-830d-466e-b66a-9c7a85aeae70",
   "metadata": {},
   "source": [
    "### Least rated 5 mobiles"
   ]
  },
  {
   "cell_type": "code",
   "execution_count": 21,
   "id": "81d3e240-6889-4520-aa17-99bd86cdb1a7",
   "metadata": {},
   "outputs": [
    {
     "data": {
      "text/html": [
       "<div>\n",
       "<style scoped>\n",
       "    .dataframe tbody tr th:only-of-type {\n",
       "        vertical-align: middle;\n",
       "    }\n",
       "\n",
       "    .dataframe tbody tr th {\n",
       "        vertical-align: top;\n",
       "    }\n",
       "\n",
       "    .dataframe thead th {\n",
       "        text-align: right;\n",
       "    }\n",
       "</style>\n",
       "<table border=\"1\" class=\"dataframe\">\n",
       "  <thead>\n",
       "    <tr style=\"text-align: right;\">\n",
       "      <th></th>\n",
       "      <th>Product Name</th>\n",
       "      <th>Price</th>\n",
       "      <th>Rating</th>\n",
       "      <th>Review Count</th>\n",
       "    </tr>\n",
       "  </thead>\n",
       "  <tbody>\n",
       "    <tr>\n",
       "      <th>0</th>\n",
       "      <td>Xiaomi Redmi A3, 3GB RAM | 64GB ROM, 6.71 Inch...</td>\n",
       "      <td>3888.0</td>\n",
       "      <td>3.6</td>\n",
       "      <td>372.0</td>\n",
       "    </tr>\n",
       "    <tr>\n",
       "      <th>126</th>\n",
       "      <td>Nokia G21 Dual SIM 4GB Ram+128GB ROM (6.5 Inch...</td>\n",
       "      <td>5999.0</td>\n",
       "      <td>3.8</td>\n",
       "      <td>678.0</td>\n",
       "    </tr>\n",
       "    <tr>\n",
       "      <th>61</th>\n",
       "      <td>Itel A70 | 12GB (4+8) RAM + 128GB ROM| 13MP Du...</td>\n",
       "      <td>4050.0</td>\n",
       "      <td>3.8</td>\n",
       "      <td>241.0</td>\n",
       "    </tr>\n",
       "    <tr>\n",
       "      <th>8</th>\n",
       "      <td>Samsung Galaxy A55 5G, Android Smartphone, Dua...</td>\n",
       "      <td>22500.0</td>\n",
       "      <td>3.9</td>\n",
       "      <td>1290.0</td>\n",
       "    </tr>\n",
       "    <tr>\n",
       "      <th>7</th>\n",
       "      <td>Xiaomi Redmi14C (8+256G) Midnight Black MediaT...</td>\n",
       "      <td>6444.0</td>\n",
       "      <td>3.9</td>\n",
       "      <td>132.0</td>\n",
       "    </tr>\n",
       "  </tbody>\n",
       "</table>\n",
       "</div>"
      ],
      "text/plain": [
       "                                          Product Name    Price  Rating  \\\n",
       "0    Xiaomi Redmi A3, 3GB RAM | 64GB ROM, 6.71 Inch...   3888.0     3.6   \n",
       "126  Nokia G21 Dual SIM 4GB Ram+128GB ROM (6.5 Inch...   5999.0     3.8   \n",
       "61   Itel A70 | 12GB (4+8) RAM + 128GB ROM| 13MP Du...   4050.0     3.8   \n",
       "8    Samsung Galaxy A55 5G, Android Smartphone, Dua...  22500.0     3.9   \n",
       "7    Xiaomi Redmi14C (8+256G) Midnight Black MediaT...   6444.0     3.9   \n",
       "\n",
       "     Review Count  \n",
       "0           372.0  \n",
       "126         678.0  \n",
       "61          241.0  \n",
       "8          1290.0  \n",
       "7           132.0  "
      ]
     },
     "execution_count": 21,
     "metadata": {},
     "output_type": "execute_result"
    }
   ],
   "source": [
    "df[df['Review Count'] > 100].sort_values(by='Rating').head(5)"
   ]
  },
  {
   "cell_type": "markdown",
   "id": "171c4841-af95-4997-9135-02c7adc7f2cf",
   "metadata": {},
   "source": [
    "### Price Category Analysis"
   ]
  },
  {
   "cell_type": "code",
   "execution_count": 23,
   "id": "1083219f-f745-4438-835a-ab3b593d08fc",
   "metadata": {},
   "outputs": [],
   "source": [
    "def price_category(price):\n",
    "    if price >= 40000:\n",
    "        return 'Flagship'\n",
    "    elif price < 40000 and price > 15000:\n",
    "        return 'Mid-Range'\n",
    "    else:\n",
    "        return 'Low Budget'"
   ]
  },
  {
   "cell_type": "code",
   "execution_count": 24,
   "id": "4dffee54-6c49-47c0-ad01-2c89be036ab7",
   "metadata": {},
   "outputs": [
    {
     "data": {
      "text/plain": [
       "Price Category\n",
       "Low Budget    109\n",
       "Flagship       30\n",
       "Mid-Range      25\n",
       "Name: count, dtype: int64"
      ]
     },
     "execution_count": 24,
     "metadata": {},
     "output_type": "execute_result"
    }
   ],
   "source": [
    "df['Price Category'] = df['Price'].apply(price_category)\n",
    "df['Price Category'].value_counts()"
   ]
  },
  {
   "cell_type": "code",
   "execution_count": 25,
   "id": "ad78ed12-0660-4408-b83e-73a21f122f5c",
   "metadata": {},
   "outputs": [
    {
     "data": {
      "image/png": "[encoded data removed]",
      "text/plain": [
       "<Figure size 640x480 with 1 Axes>"
      ]
     },
     "metadata": {},
     "output_type": "display_data"
    }
   ],
   "source": [
    "df['Price Category'].value_counts().plot(kind='bar')\n",
    "plt.title(\"Price Categories Distribution\")\n",
    "plt.xlabel(\"Category\")\n",
    "plt.ylabel(\"Number of Products\")\n",
    "plt.show()"
   ]
  },
  {
   "cell_type": "markdown",
   "id": "717542a2-78f2-435d-99c8-eb766676bc7b",
   "metadata": {},
   "source": [
    "### Average Rating for Price categories"
   ]
  },
  {
   "cell_type": "code",
   "execution_count": 27,
   "id": "1d3ef253-f534-4030-8515-051ed272226c",
   "metadata": {},
   "outputs": [
    {
     "data": {
      "image/png": "[encoded data removed]",
      "text/plain": [
       "<Figure size 640x480 with 1 Axes>"
      ]
     },
     "metadata": {},
     "output_type": "display_data"
    }
   ],
   "source": [
    "# Group by price category and calculate mean rating\n",
    "average_rating = df.groupby('Price Category')['Rating'].mean()\n",
    "\n",
    "average_rating.plot(kind='bar')\n",
    "plt.title('Average Rating by Price Category')\n",
    "plt.xlabel('Price Category')\n",
    "plt.ylabel('Average Rating')\n",
    "plt.show()"
   ]
  },
  {
   "cell_type": "markdown",
   "id": "632b65a5-e4df-4a72-b407-4ddc0869c4c4",
   "metadata": {},
   "source": [
    "### Correlation between Rating and Review count"
   ]
  },
  {
   "cell_type": "code",
   "execution_count": 29,
   "id": "4ec422d9-689a-4b2a-8b63-be72d68a4021",
   "metadata": {},
   "outputs": [
    {
     "data": {
      "image/png": "[encoded data removed]",
      "text/plain": [
       "<Figure size 640x480 with 1 Axes>"
      ]
     },
     "metadata": {},
     "output_type": "display_data"
    },
    {
     "data": {
      "text/plain": [
       "0.09447111845347955"
      ]
     },
     "execution_count": 29,
     "metadata": {},
     "output_type": "execute_result"
    }
   ],
   "source": [
    "plt.scatter(df['Review Count'], df['Rating'])\n",
    "plt.xlabel('Review Count')\n",
    "plt.ylabel('Rating')\n",
    "plt.title('Review Count vs Rating')\n",
    "plt.show()\n",
    "df['Review Count'].corr(df['Rating'])"
   ]
  },
  {
   "cell_type": "markdown",
   "id": "74f2a06e-1a0a-4df1-831c-79849b5db977",
   "metadata": {},
   "source": [
    "#### Very weak Correlation !"
   ]
  },
  {
   "cell_type": "markdown",
   "id": "6ea20ba9-5941-49c0-9f65-8a03520fd6a5",
   "metadata": {},
   "source": [
    "### Brands Analysis"
   ]
  },
  {
   "cell_type": "code",
   "execution_count": 107,
   "id": "a59f395e-218b-4232-b37f-35829ecfffe6",
   "metadata": {},
   "outputs": [],
   "source": [
    "# brands list\n",
    "brands = ['Samsung', 'Apple', 'Xiaomi', 'Huawei', 'Realme', 'Oppo', 'Infinix', 'Vivo', 'Nokia', 'Honor','OnePlus', 'Motorola', 'Poco','Itel', 'Google Pixel', 'Redmi', 'Nothing', 'Ace', 'REDMAGIC']\n",
    "\n",
    "def extract_brand(name):\n",
    "    for brand in brands:\n",
    "        if brand.lower() in name.lower():\n",
    "            return brand\n",
    "    return 'Other'\n",
    "\n",
    "df = df[~df['Product Name'].str.contains('Selfie Stick', case=False, na=False)]\n",
    "\n",
    "# Add Brand column \n",
    "df['Brand'] = df['Product Name'].apply(extract_brand)"
   ]
  },
  {
   "cell_type": "code",
   "execution_count": 113,
   "id": "00b33df0-d904-4820-8a69-27922803cb86",
   "metadata": {},
   "outputs": [
    {
     "data": {
      "image/png": "[encoded data removed]",
      "text/plain": [
       "<Figure size 640x480 with 1 Axes>"
      ]
     },
     "metadata": {},
     "output_type": "display_data"
    }
   ],
   "source": [
    "brand_counts = df['Brand'].value_counts()\n",
    "# Top 10 Brands\n",
    "brand_counts.plot(kind='bar', color='skyblue')\n",
    "plt.title('Top 10 Brands by Number of Products')\n",
    "plt.xlabel('Brand')\n",
    "plt.ylabel('Number of Products')\n",
    "plt.show()"
   ]
  },
  {
   "cell_type": "code",
   "execution_count": 127,
   "id": "6b41a4f5-a376-471f-b1b1-209b50695ad4",
   "metadata": {},
   "outputs": [
    {
     "name": "stdout",
     "output_type": "stream",
     "text": [
      "                Price  Rating  Count\n",
      "Brand                               \n",
      "Other          1738.0     3.3     33\n",
      "Samsung       33590.0     3.8     20\n",
      "Itel           3978.0     4.1     15\n",
      "Apple         63311.0     4.5     12\n",
      "Realme         8888.0     3.5     12\n",
      "Xiaomi        11744.0     4.0     10\n",
      "Infinix        9827.0     4.0      9\n",
      "Motorola      23364.0     3.8      7\n",
      "Nothing       26170.0     4.2      7\n",
      "Google Pixel  45617.0     4.4      6\n"
     ]
    }
   ],
   "source": [
    "brand_stats = df.groupby('Brand').agg({\n",
    "    'Price': 'mean',\n",
    "    'Rating': 'mean',\n",
    "    'Product Name': 'count' \n",
    "}).rename(columns={'Product Name': 'Count'})\n",
    "brand_stats['Price'] = brand_stats['Price'].round(0)\n",
    "brand_stats['Rating'] = brand_stats['Rating'].round(1)\n",
    "print(brand_stats.sort_values(by='Count', ascending=False).head(10))"
   ]
  },
  {
   "cell_type": "code",
   "execution_count": null,
   "id": "d5e272a6-46ed-48cc-8521-0aee323fadd2",
   "metadata": {},
   "outputs": [],
   "source": []
  }
 ],
 "metadata": {
  "kernelspec": {
   "display_name": "Python 3 (ipykernel)",
   "language": "python",
   "name": "python3"
  },
  "language_info": {
   "codemirror_mode": {
    "name": "ipython",
    "version": 3
   },
   "file_extension": ".py",
   "mimetype": "text/x-python",
   "name": "python",
   "nbconvert_exporter": "python",
   "pygments_lexer": "ipython3",
   "version": "3.12.3"
  }
 },
 "nbformat": 4,
 "nbformat_minor": 5
}
